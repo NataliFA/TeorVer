{
  "nbformat": 4,
  "nbformat_minor": 0,
  "metadata": {
    "colab": {
      "provenance": [],
      "authorship_tag": "ABX9TyO++4GrLb3PUKr9IY7etC3o",
      "include_colab_link": true
    },
    "kernelspec": {
      "name": "python3",
      "display_name": "Python 3"
    },
    "language_info": {
      "name": "python"
    }
  },
  "cells": [
    {
      "cell_type": "markdown",
      "metadata": {
        "id": "view-in-github",
        "colab_type": "text"
      },
      "source": [
        "<a href=\"https://colab.research.google.com/github/NataliFA/TeorVer/blob/main/%D0%94%D0%97_4.ipynb\" target=\"_parent\"><img src=\"https://colab.research.google.com/assets/colab-badge.svg\" alt=\"Open In Colab\"/></a>"
      ]
    },
    {
      "cell_type": "markdown",
      "source": [
        "*1. Случайная непрерывная величина A имеет равномерное распределение на промежутке (200, 800]. Найдите ее среднее значение и дисперсию.*"
      ],
      "metadata": {
        "id": "5p3bM-OnRX5Z"
      }
    },
    {
      "cell_type": "code",
      "source": [
        "import numpy as np\n",
        "\n",
        "A = np.array(range(200,800))\n",
        "res_mean = np.mean(A)\n",
        "res_var = np.var(A)\n",
        "print(f\"Среднее значение = {res_mean:.2f}\")\n",
        "print(f\"Дисперсия = {res_var:.2f}\")\n"
      ],
      "metadata": {
        "colab": {
          "base_uri": "https://localhost:8080/"
        },
        "id": "w5MpqHlPWHgP",
        "outputId": "d0d0e9eb-6596-4878-ae90-d0d3c7b41ca2"
      },
      "execution_count": null,
      "outputs": [
        {
          "output_type": "stream",
          "name": "stdout",
          "text": [
            "Среднее значение = 499.5\n",
            "Дисперсия = 29999.92\n"
          ]
        }
      ]
    },
    {
      "cell_type": "markdown",
      "source": [
        "*2. О случайной непрерывной равномерно распределенной величине B известно, что ее дисперсия равна 0.2.*\n",
        "Можно ли найти правую границу величины B и ее среднее значение зная, что левая граница равна 0.5?\n",
        "Если да, найдите ее.\n",
        "\n",
        "Решение:  \n",
        "Для отрезка дисперсия равна:  \n",
        "$$ D(x) = \\frac{(b-a)^2}{12} = \\frac{(b-0.5)^2}{12} = 0.2 $$  \n",
        "тогда правая граница: \n",
        "$$ b = \\sqrt{12*0.2} + 0.5 = 2.05 $$  \n",
        "Среднее значение: \n",
        "$$ M(x) = \\frac{b+a}{2} = \\frac{0.5+2.5}{2} = 1.5 $$\n"
      ],
      "metadata": {
        "id": "qaYPRM3eXJ6K"
      }
    },
    {
      "cell_type": "markdown",
      "source": [
        "*3. Непрерывная случайная величина X распределена нормально и задана плотностью распределения f(x). Найдите: M(X), D(X), std(X)*\n",
        "$$ f(x) = \\frac{1}{4*\\sqrt{2\\pi}} * e^\\frac{-(x+2)^2}{32} $$ \n",
        "ОТВЕТ:  \n",
        "а). M(X) = -2  \n",
        "б). D(X) = 16  \n",
        "в). std(X) = 4  \n"
      ],
      "metadata": {
        "id": "O9rwpraTXO7a"
      }
    },
    {
      "cell_type": "markdown",
      "source": [
        "4. Рост взрослого населения города X имеет нормальное распределение.\n",
        "Причем, средний рост равен 174 см, а среднее квадратичное отклонение равно 8 см.\n",
        "Какова вероятность того, что случайным образом выбранный взрослый человек имеет рост:  \n",
        "а). больше 182 см  \n",
        "б). больше 190 см  \n",
        "в). от 166 см до 190 см  \n",
        "г). от 166 см до 182 см  \n",
        "д). от 158 см до 190 см  \n",
        "е). не выше 150 см или не ниже 190 см  \n",
        "ё). не выше 150 см или не ниже 198 см  \n",
        "ж). ниже 166 см.  "
      ],
      "metadata": {
        "id": "VlfqiCb_aBI7"
      }
    },
    {
      "cell_type": "code",
      "source": [
        "mu = 174\n",
        "std = 8\n",
        "def AmountSTD(x, mu, std):\n",
        "  return (x-mu)/std"
      ],
      "metadata": {
        "id": "zhaMWgQxiupY"
      },
      "execution_count": 2,
      "outputs": []
    },
    {
      "cell_type": "code",
      "source": [
        "print(AmountSTD(182, mu, std))\n",
        "print(f\"Вероятность того, что рост > 182 = {(100-68)/2} %\")"
      ],
      "metadata": {
        "colab": {
          "base_uri": "https://localhost:8080/"
        },
        "id": "Bwa9WwGLnjV8",
        "outputId": "0167c84e-1cf0-4100-f17a-5fa67c19d837"
      },
      "execution_count": null,
      "outputs": [
        {
          "output_type": "stream",
          "name": "stdout",
          "text": [
            "1.0\n",
            "Вероятность того, что рост > 182 = 16.0 %\n"
          ]
        }
      ]
    },
    {
      "cell_type": "code",
      "source": [
        "print(AmountSTD(190, mu, std))\n",
        "print(f\"Вероятность того, что рост > 190 = {(100-95.4)/2:.2f} %\")"
      ],
      "metadata": {
        "colab": {
          "base_uri": "https://localhost:8080/"
        },
        "id": "7LvtyMuln6si",
        "outputId": "a7e7ac1a-7182-4a5c-dc4d-7848a1b98c8a"
      },
      "execution_count": null,
      "outputs": [
        {
          "output_type": "stream",
          "name": "stdout",
          "text": [
            "2.0\n",
            "Вероятность того, что рост > 190 = 2.30 %\n"
          ]
        }
      ]
    },
    {
      "cell_type": "code",
      "source": [
        "s1 = AmountSTD(166, mu, std)\n",
        "s2 = AmountSTD(190, mu, std)\n",
        "print(f\"Вероятность того, что рост от 166 см до 190 см, т.е. от {s1} до {s2} = {68 + 13.7} %\")"
      ],
      "metadata": {
        "colab": {
          "base_uri": "https://localhost:8080/"
        },
        "id": "q9xHW2n7n7J8",
        "outputId": "da523649-e4ea-4c49-f856-d65ef7399697"
      },
      "execution_count": null,
      "outputs": [
        {
          "output_type": "stream",
          "name": "stdout",
          "text": [
            "Вероятность того, что рост от 166 см до 190 см, т.е. от -1.0 до 2.0 = 81.7 %\n"
          ]
        }
      ]
    },
    {
      "cell_type": "code",
      "source": [
        "s1 = AmountSTD(158, mu, std)\n",
        "s2 = AmountSTD(190, mu, std)\n",
        "print(f\"Вероятность того, что от 158 см до 190 см, т.е. от {s1} до {s2} = 95.4 %\")"
      ],
      "metadata": {
        "colab": {
          "base_uri": "https://localhost:8080/"
        },
        "id": "0mt2c_0Xn7q5",
        "outputId": "a5a1f530-0607-49ec-d78e-b87b1c578a22"
      },
      "execution_count": null,
      "outputs": [
        {
          "output_type": "stream",
          "name": "stdout",
          "text": [
            "Вероятность того, что от 158 см до 190 см, т.е. от -2.0 до 2.0 = 95.4 %\n"
          ]
        }
      ]
    },
    {
      "cell_type": "code",
      "source": [
        "s1 = AmountSTD(150, mu, std)\n",
        "s2 = AmountSTD(190, mu, std)\n",
        "print(f\"Вероятность того, что рост не выше 150 см или не ниже 190 см, т.е. ниже {s1} и выше {s2} = {16 + (100-99.72)/2} %\")"
      ],
      "metadata": {
        "colab": {
          "base_uri": "https://localhost:8080/"
        },
        "id": "xdr8DmCfn8JY",
        "outputId": "a5ed4b69-b971-4843-a18b-942befc523bd"
      },
      "execution_count": null,
      "outputs": [
        {
          "output_type": "stream",
          "name": "stdout",
          "text": [
            "Вероятность того, что рост не выше 150 см или не ниже 190 см, т.е. ниже -3.0 и выше 2.0 = 16.14 %\n"
          ]
        }
      ]
    },
    {
      "cell_type": "code",
      "source": [
        "s1 = AmountSTD(150, mu, std)\n",
        "s2 = AmountSTD(198, mu, std)\n",
        "print(f\"Вероятность того, что рост не выше 150 см или не ниже 198 см, т.е. ниже {s1} и выше {s2} = {100-99.72:.2f} %\")"
      ],
      "metadata": {
        "colab": {
          "base_uri": "https://localhost:8080/"
        },
        "id": "mR3OU9tbwcwq",
        "outputId": "dd9d864e-30ca-4d03-c880-26966c8267f3"
      },
      "execution_count": null,
      "outputs": [
        {
          "output_type": "stream",
          "name": "stdout",
          "text": [
            "Вероятность того, что рост не выше 150 см или не ниже 198 см, т.е. ниже -3.0 и выше 3.0 = 0.28 %\n"
          ]
        }
      ]
    },
    {
      "cell_type": "code",
      "source": [
        "print(AmountSTD(166, mu, std))\n",
        "print(f\"Вероятность того, что рост < 166 = {(100-68)/2:.2f} %\")"
      ],
      "metadata": {
        "colab": {
          "base_uri": "https://localhost:8080/"
        },
        "id": "P_zj8wlEyF22",
        "outputId": "caa1f3e3-2cde-42fd-d7c8-81fedeb87379"
      },
      "execution_count": null,
      "outputs": [
        {
          "output_type": "stream",
          "name": "stdout",
          "text": [
            "-1.0\n",
            "Вероятность того, что рост < 166 = 16.00 %\n"
          ]
        }
      ]
    },
    {
      "cell_type": "markdown",
      "source": [
        "*5. На сколько сигм (средних квадратичных отклонений) отклоняется рост человека, равный 190 см, от математического ожидания роста в популяции, в которой M(X) = 178 см и D(X) = 25 кв.см?*  \n",
        "Решение:  \n",
        "$$ \\frac{X-M(X)}{\\sqrt{D(X)}} =  \\frac{190-178}{\\sqrt{25}} = 2.4 $$ \n",
        "\n",
        "ОТВЕТ: на 2.4 сигмы"
      ],
      "metadata": {
        "id": "C9p0zeqxaNS5"
      }
    }
  ]
}