{
  "nbformat": 4,
  "nbformat_minor": 0,
  "metadata": {
    "colab": {
      "provenance": [],
      "authorship_tag": "ABX9TyMkBqol4tm+/apFknCVKYEN",
      "include_colab_link": true
    },
    "kernelspec": {
      "name": "python3",
      "display_name": "Python 3"
    },
    "language_info": {
      "name": "python"
    }
  },
  "cells": [
    {
      "cell_type": "markdown",
      "metadata": {
        "id": "view-in-github",
        "colab_type": "text"
      },
      "source": [
        "<a href=\"https://colab.research.google.com/github/NataliFA/TeorVer/blob/main/%D0%94%D0%97_10.ipynb\" target=\"_parent\"><img src=\"https://colab.research.google.com/assets/colab-badge.svg\" alt=\"Open In Colab\"/></a>"
      ]
    },
    {
      "cell_type": "code",
      "source": [
        "import numpy as np\n",
        "import scipy.stats as stats"
      ],
      "metadata": {
        "id": "47dD9xxAatgf"
      },
      "execution_count": 47,
      "outputs": []
    },
    {
      "cell_type": "markdown",
      "source": [
        "1. *Провести дисперсионный анализ для определения того, есть ли различия среднего роста среди взрослых футболистов, хоккеистов и штангистов. Даны значения роста в трех группах случайно выбранных спортсменов:  \n",
        "Футболисты: 173, 175, 180, 178, 177, 185, 183, 182.   \n",
        "Хоккеисты: 177, 179, 180, 188, 177, 172, 171, 184, 180.  \n",
        "Штангисты: 172, 173, 169, 177, 166, 180, 178, 177, 172, 166, 170.*"
      ],
      "metadata": {
        "id": "5p3bM-OnRX5Z"
      }
    },
    {
      "cell_type": "code",
      "source": [
        "y1 = np.array([173, 175, 180, 178, 177, 185, 183, 182,])\n",
        "y2 = np.array([177, 179, 180, 188, 177, 172, 171, 184, 180])\n",
        "y3 = np.array([172, 173, 169, 177, 166, 180, 178, 177, 172, 166, 170])"
      ],
      "metadata": {
        "id": "w5MpqHlPWHgP"
      },
      "execution_count": 43,
      "outputs": []
    },
    {
      "cell_type": "code",
      "source": [
        "stats.shapiro(y1)"
      ],
      "metadata": {
        "colab": {
          "base_uri": "https://localhost:8080/"
        },
        "id": "qc30Lv7MI6Ct",
        "outputId": "485d73a0-abcc-41bb-9ed1-9f846b8c52c1"
      },
      "execution_count": 6,
      "outputs": [
        {
          "output_type": "execute_result",
          "data": {
            "text/plain": [
              "ShapiroResult(statistic=0.9775081276893616, pvalue=0.9495397210121155)"
            ]
          },
          "metadata": {},
          "execution_count": 6
        }
      ]
    },
    {
      "cell_type": "code",
      "source": [
        "stats.shapiro(y2)"
      ],
      "metadata": {
        "colab": {
          "base_uri": "https://localhost:8080/"
        },
        "id": "EVQ0Hy9vJWE9",
        "outputId": "95b922af-5a9b-4240-c78a-3a90ed0173ef"
      },
      "execution_count": 7,
      "outputs": [
        {
          "output_type": "execute_result",
          "data": {
            "text/plain": [
              "ShapiroResult(statistic=0.9579195976257324, pvalue=0.7763133645057678)"
            ]
          },
          "metadata": {},
          "execution_count": 7
        }
      ]
    },
    {
      "cell_type": "code",
      "source": [
        "stats.shapiro(y3)"
      ],
      "metadata": {
        "colab": {
          "base_uri": "https://localhost:8080/"
        },
        "id": "d02w4k8BJVsO",
        "outputId": "ba287c85-ed1b-46b8-dea9-893c92ab8e96"
      },
      "execution_count": 8,
      "outputs": [
        {
          "output_type": "execute_result",
          "data": {
            "text/plain": [
              "ShapiroResult(statistic=0.93868088722229, pvalue=0.5051169991493225)"
            ]
          },
          "metadata": {},
          "execution_count": 8
        }
      ]
    },
    {
      "cell_type": "code",
      "source": [
        "stats.bartlett(y1, y2, y3)"
      ],
      "metadata": {
        "colab": {
          "base_uri": "https://localhost:8080/"
        },
        "id": "_LPHdYlDNfBD",
        "outputId": "e8539324-e7de-41cf-f665-a34f21971639"
      },
      "execution_count": 9,
      "outputs": [
        {
          "output_type": "execute_result",
          "data": {
            "text/plain": [
              "BartlettResult(statistic=0.4640521043406442, pvalue=0.7929254656083131)"
            ]
          },
          "metadata": {},
          "execution_count": 9
        }
      ]
    },
    {
      "cell_type": "code",
      "source": [
        "stats.kruskal(y1, y2, y3)"
      ],
      "metadata": {
        "colab": {
          "base_uri": "https://localhost:8080/"
        },
        "id": "aRU4t-LtIHVC",
        "outputId": "60e440be-e687-4aef-f926-4e7112228ca8"
      },
      "execution_count": 5,
      "outputs": [
        {
          "output_type": "execute_result",
          "data": {
            "text/plain": [
              "KruskalResult(statistic=7.897493213863828, pvalue=0.01927885061595347)"
            ]
          },
          "metadata": {},
          "execution_count": 5
        }
      ]
    },
    {
      "cell_type": "markdown",
      "source": [
        "Сначала проводим разведочный анализ. Тест Шапиро говорит о том, что выборки имеют нормальное распределение. Тест Барлетта говорит о том, что дисперсии однородны. Но так как выборки имеют разную длину, мы не может сделать таблицу ANOVA, проведём тест Крускала и Фридмана. Так как pvalue меньше уровня статистической значимости альфа = 0,05, то считаем, что есть различия в среднем росте футболистов, хоккеистов и штангистов. Однако, если альфа =  0,01, то считаем, что различий нет"
      ],
      "metadata": {
        "id": "JdkrQqBQQnMY"
      }
    },
    {
      "cell_type": "code",
      "source": [
        "k = 3\n",
        "n = len(y1) + len(y2) + len(y3)\n",
        "\n",
        "y1_mean = np.mean(y1)\n",
        "y2_mean = np.mean(y2)\n",
        "y3_mean = np.mean(y3)\n",
        "\n",
        "total = np.concatenate([y1, y2, y3])\n",
        "total_mean = np.mean(total)\n",
        "\n",
        "# сумма квадратов отклонений средних  от общего среднего\n",
        "\n",
        "S_total = np.sum((total - total_mean)**2)\n",
        "print(S_total)\n",
        "\n",
        "# сумма квадратов отклонений средних групповых значений от общего среднего\n",
        "\n",
        "S_f = np.sum((y1_mean - total_mean)**2) * len(y1) + np.sum((y2_mean - total_mean)**2) * len(y2) + np.sum((y3_mean - total_mean)**2) * len(y3)\n",
        "\n",
        "# остаточная сумма квадратных отклонений\n",
        "\n",
        "S_ost = np.sum((y1 - y1_mean)**2) + np.sum((y2 - y2_mean)**2) + np.sum((y3 - y3_mean)**2)\n",
        "\n",
        "print(S_f + S_ost)\n",
        "\n",
        "D_f = S_f / (k-1)\n",
        "D_ost = S_ost / (n-k)\n",
        "\n",
        "F_n = D_f / D_ost \n",
        "print(f\"{F_n=:.3f}\")\n",
        "\n",
        "f = stats.f_oneway(y1, y2, y3)\n",
        "print(f)\n",
        "# по таблице критическое значение f = 3,38 меньше 5.500, это говорит о том, что различия есть при альфа = 0,05"
      ],
      "metadata": {
        "colab": {
          "base_uri": "https://localhost:8080/"
        },
        "id": "5VQhkOYBkFSJ",
        "outputId": "6ccb02fc-ce02-474d-8e49-131ffb6239a2"
      },
      "execution_count": 48,
      "outputs": [
        {
          "output_type": "stream",
          "name": "stdout",
          "text": [
            "830.9642857142854\n",
            "830.964285714286\n",
            "F_n=5.500\n",
            "F_onewayResult(statistic=5.500053450812596, pvalue=0.010482206918698694)\n"
          ]
        }
      ]
    }
  ]
}