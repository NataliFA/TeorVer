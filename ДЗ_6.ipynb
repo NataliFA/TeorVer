{
  "nbformat": 4,
  "nbformat_minor": 0,
  "metadata": {
    "colab": {
      "provenance": [],
      "authorship_tag": "ABX9TyO5xJQRAv1+rv7qEpXMw+Hs",
      "include_colab_link": true
    },
    "kernelspec": {
      "name": "python3",
      "display_name": "Python 3"
    },
    "language_info": {
      "name": "python"
    }
  },
  "cells": [
    {
      "cell_type": "markdown",
      "metadata": {
        "id": "view-in-github",
        "colab_type": "text"
      },
      "source": [
        "<a href=\"https://colab.research.google.com/github/NataliFA/TeorVer/blob/main/%D0%94%D0%97_6.ipynb\" target=\"_parent\"><img src=\"https://colab.research.google.com/assets/colab-badge.svg\" alt=\"Open In Colab\"/></a>"
      ]
    },
    {
      "cell_type": "markdown",
      "source": [
        "*1.Известно, что генеральная совокупность распределена нормально\n",
        "со средним квадратическим отклонением, равным 16. Найти доверительный интервал для оценки математического ожидания a с надежностью 0.95, если выборочная средняя M = 80, а объем выборки n = 256.*  "
      ],
      "metadata": {
        "id": "5p3bM-OnRX5Z"
      }
    },
    {
      "cell_type": "code",
      "source": [
        "import math\n",
        "M = 80\n",
        "std = 16\n",
        "n = 256\n",
        "p = 0.95\n",
        "Z = 1.96\n",
        "\n",
        "L = M - Z * std / math.sqrt(n)\n",
        "U = M + Z * std / math.sqrt(n)\n",
        "\n",
        "print(f\"Доверительный интервал [{L:.2f}; {U:.2f}]\")"
      ],
      "metadata": {
        "colab": {
          "base_uri": "https://localhost:8080/"
        },
        "id": "w5MpqHlPWHgP",
        "outputId": "cd4468d5-0c39-49e4-ffab-d18d4199b97d"
      },
      "execution_count": null,
      "outputs": [
        {
          "output_type": "stream",
          "name": "stdout",
          "text": [
            "Доверительный интервал [78.04; 81.96]\n"
          ]
        }
      ]
    },
    {
      "cell_type": "markdown",
      "source": [
        "*2. В результате 10 независимых измерений некоторой величины X, выполненных с одинаковой точностью, получены опытные данные:  \n",
        "6.9, 6.1, 6.2, 6.8, 7.5, 6.3, 6.4, 6.9, 6.7, 6.1  \n",
        "Предполагая, что результаты измерений подчинены нормальному закону распределения вероятностей, оценить истинное значение величины X при помощи доверительного интервала, покрывающего это значение с доверительной вероятностью 0,95.*"
      ],
      "metadata": {
        "id": "qaYPRM3eXJ6K"
      }
    },
    {
      "cell_type": "code",
      "source": [
        "import numpy as np\n",
        "import scipy.stats as stats\n",
        "\n",
        "n = 10\n",
        "x = np.array([6.9, 6.1, 6.2, 6.8, 7.5, 6.3, 6.4, 6.9, 6.7, 6.1])\n",
        "p = 0.95\n",
        "\n",
        "mean = np.mean(x)\n",
        "unb_var = np.var(x, ddof=1)\n",
        "\n",
        "t = stats.t.ppf(0.975, 9)\n",
        "\n",
        "L = mean - t * np.sqrt(unb_var/n)\n",
        "U = mean + t * np.sqrt(unb_var/n)\n",
        "\n",
        "print(f\"Истинное значение величины X находится в доверительном интервале [{L:.2f}; {U:.2f}]\")\n"
      ],
      "metadata": {
        "colab": {
          "base_uri": "https://localhost:8080/"
        },
        "outputId": "881c48fa-2ab3-4aed-f4a7-f8cd6afa1500",
        "id": "w5fjyeKOLcik"
      },
      "execution_count": null,
      "outputs": [
        {
          "output_type": "stream",
          "name": "stdout",
          "text": [
            "Истинное значение величины X находится в доверительном интервале [6.27; 6.91]\n"
          ]
        }
      ]
    },
    {
      "cell_type": "markdown",
      "source": [
        "*3. Рост дочерей 175, 167, 154, 174, 178, 148, 160, 167, 169, 170  \n",
        "Рост матерей 178, 165, 165, 173, 168, 155, 160, 164, 178, 175  \n",
        "Используя эти данные построить 95% доверительный интервал для разности среднего роста родителей и детей.*  "
      ],
      "metadata": {
        "id": "O9rwpraTXO7a"
      }
    },
    {
      "cell_type": "code",
      "source": [
        "import numpy as np\n",
        "import scipy.stats as stats\n",
        "\n",
        "mother = np.array([178, 165, 165, 173, 168, 155, 160, 164, 178, 175])\n",
        "daughter = np.array([175, 167, 154, 174, 178, 148, 160, 167, 169, 170])\n",
        "\n",
        "D_mother = np.var(mother, ddof=1)\n",
        "D_daughter = np.var(daughter, ddof=1)\n",
        "\n",
        "D = (D_mother + D_daughter) / 2\n",
        "\n",
        "mean_mother = np.mean(mother)\n",
        "mean_daughter = np.mean(daughter)\n",
        "\n",
        "delta = mean_mother - mean_daughter\n",
        "\n",
        "l_mother = len(mother)\n",
        "l_daughter = len(daughter)\n",
        "\n",
        "t = stats.t.ppf(0.975, 18)\n",
        "\n",
        "SE = np.sqrt(D/l_mother + D/l_daughter)\n",
        "\n",
        "L = delta - t * SE\n",
        "U = delta + t * SE\n",
        "\n",
        "print(f\"95% доверительный интервал для разности среднего роста родителей и детей [{L:.2f}; {U:.2f}]\")"
      ],
      "metadata": {
        "id": "zhaMWgQxiupY",
        "colab": {
          "base_uri": "https://localhost:8080/"
        },
        "outputId": "7ed2ab2b-d08b-494d-ba4a-a0bf2c4886a7"
      },
      "execution_count": null,
      "outputs": [
        {
          "output_type": "stream",
          "name": "stdout",
          "text": [
            "95% доверительный интервал для разности среднего роста родителей и детей [-6.27; 10.07]\n"
          ]
        }
      ]
    }
  ]
}