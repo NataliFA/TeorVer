{
  "nbformat": 4,
  "nbformat_minor": 0,
  "metadata": {
    "colab": {
      "provenance": [],
      "authorship_tag": "ABX9TyNrod7e3c7AeoN1msm7B2kE",
      "include_colab_link": true
    },
    "kernelspec": {
      "name": "python3",
      "display_name": "Python 3"
    },
    "language_info": {
      "name": "python"
    }
  },
  "cells": [
    {
      "cell_type": "markdown",
      "metadata": {
        "id": "view-in-github",
        "colab_type": "text"
      },
      "source": [
        "<a href=\"https://colab.research.google.com/github/NataliFA/TeorVer/blob/main/%D0%94%D0%97_8.ipynb\" target=\"_parent\"><img src=\"https://colab.research.google.com/assets/colab-badge.svg\" alt=\"Open In Colab\"/></a>"
      ]
    },
    {
      "cell_type": "code",
      "source": [
        "import numpy as np\n",
        "import scipy.stats as stats\n",
        "import matplotlib.pyplot as plt"
      ],
      "metadata": {
        "id": "47dD9xxAatgf"
      },
      "execution_count": null,
      "outputs": []
    },
    {
      "cell_type": "markdown",
      "source": [
        "1. *Даны значения величины заработной платы заемщиков банка (zp) и значения их поведенческого кредитного скоринга (ks):  \n",
        "zp = [35, 45, 190, 200, 40, 70, 54, 150, 120, 110],  \n",
        "ks = [401, 574, 874, 919, 459, 739, 653, 902, 746, 832].  \n",
        "Найдите ковариацию этих двух величин с помощью элементарных действий, а затем с помощью функции cov из numpy\n",
        "Полученные значения должны быть равны.\n",
        "Найдите коэффициент корреляции Пирсона с помощью ковариации и среднеквадратичных отклонений двух признаков,\n",
        "а затем с использованием функций из библиотек numpy и pandas.*"
      ],
      "metadata": {
        "id": "5p3bM-OnRX5Z"
      }
    },
    {
      "cell_type": "code",
      "source": [
        "zp = np.array([35, 45, 190, 200, 40, 70, 54, 150, 120, 110])\n",
        "ks = np.array([401, 574, 874, 919, 459, 739, 653, 902, 746, 832])\n",
        "\n",
        "cov1 = np.mean(zp*ks) - np.mean(zp) * np.mean(ks)\n",
        "print(f\"Ковариация расчетная {cov1:.3f}\")\n",
        "\n",
        "cov2 = np.cov(zp,ks, ddof = 0)[1,0]\n",
        "print(f\"Ковариация из библиотеки {cov2:.3f}\")\n",
        "\n",
        "r1 = cov1 / (np.std(zp)*np.std(ks))\n",
        "print(f\"Коэффициент корреляции Пирсона r = {r1:.2f}\")\n",
        "\n",
        "r2 = np.corrcoef(zp,ks)[1,0]\n",
        "print(f\"Коэффициент корреляции Пирсона из библиотеки r = {r2:.2f}\")\n",
        "\n",
        "print()\n",
        "plt.scatter(zp,ks)\n",
        "plt.title(f\"r = {r1:.2f}\")\n",
        "plt.xlabel('zp')\n",
        "plt.ylabel('ks')\n",
        "plt.show()"
      ],
      "metadata": {
        "colab": {
          "base_uri": "https://localhost:8080/",
          "height": 382
        },
        "id": "w5MpqHlPWHgP",
        "outputId": "7a567b94-669f-48ed-8c94-6130a3db7052"
      },
      "execution_count": null,
      "outputs": [
        {
          "output_type": "stream",
          "name": "stdout",
          "text": [
            "Ковариация расчетная 9157.840\n",
            "Ковариация из библиотеки 9157.840\n",
            "Коэффициент корреляции Пирсона r = 0.89\n",
            "Коэффициент корреляции Пирсона из библиотеки r = 0.89\n",
            "\n"
          ]
        },
        {
          "output_type": "display_data",
          "data": {
            "text/plain": [
              "<Figure size 432x288 with 1 Axes>"
            ],
            "image/png": "[encoded data removed]"
          },
          "metadata": {
            "needs_background": "light"
          }
        }
      ]
    },
    {
      "cell_type": "markdown",
      "source": [
        "*2.Измерены значения IQ выборки студентов, обучающихся в местных технических вузах:  \n",
        "131, 125, 115, 122, 131, 115, 107, 99, 125, 111.  \n",
        "Известно, что в генеральной совокупности IQ распределен нормально.\n",
        "Найдите доверительный интервал для математического ожидания с надежностью 0.95.*"
      ],
      "metadata": {
        "id": "qaYPRM3eXJ6K"
      }
    },
    {
      "cell_type": "code",
      "source": [
        "iq = np.array([131, 125, 115, 122, 131, 115, 107, 99, 125, 111])\n",
        "\n",
        "mean = np.mean(iq)\n",
        "n = len(iq)\n",
        "unb_var = np.var(iq, ddof=1)\n",
        "\n",
        "t = stats.t.ppf(0.95, n-1)\n",
        "\n",
        "L = mean - t * np.sqrt(unb_var/n)\n",
        "U = mean + t * np.sqrt(unb_var/n)\n",
        "\n",
        "print(f\"Доверительный интервал для математического ожидания [{L:.2f}; {U:.2f}]\")"
      ],
      "metadata": {
        "colab": {
          "base_uri": "https://localhost:8080/"
        },
        "outputId": "1f1426e5-0a14-4f2c-dc85-513c0e4b8922",
        "id": "w5fjyeKOLcik"
      },
      "execution_count": null,
      "outputs": [
        {
          "output_type": "stream",
          "name": "stdout",
          "text": [
            "Доверительный интервал для математического ожидания [111.99; 124.21]\n"
          ]
        }
      ]
    },
    {
      "cell_type": "markdown",
      "source": [
        "*3. Известно, что рост футболистов в сборной распределен нормально\n",
        "с дисперсией генеральной совокупности, равной 25 кв.см. Объем выборки равен 27,\n",
        "среднее выборочное составляет 174.2. Найдите доверительный интервал для математического ожидания с надежностью 0.95.*  "
      ],
      "metadata": {
        "id": "O9rwpraTXO7a"
      }
    },
    {
      "cell_type": "code",
      "source": [
        "d = 25\n",
        "n = 27\n",
        "mean = 174.2\n",
        "\n",
        "t = stats.t.ppf(0.95, n-1)\n",
        "\n",
        "L = mean - t * np.sqrt(d/n)\n",
        "U = mean + t * np.sqrt(d/n)\n",
        "print(f\"Доверительный интервал для математического ожидания [{L:.2f}; {U:.2f}]\")"
      ],
      "metadata": {
        "colab": {
          "base_uri": "https://localhost:8080/"
        },
        "id": "74KGGXxHX8K-",
        "outputId": "0a9d1393-39a0-4916-b68d-f08f61a26657"
      },
      "execution_count": null,
      "outputs": [
        {
          "output_type": "stream",
          "name": "stdout",
          "text": [
            "Доверительный интервал для математического ожидания [172.56; 175.84]\n"
          ]
        }
      ]
    }
  ]
}