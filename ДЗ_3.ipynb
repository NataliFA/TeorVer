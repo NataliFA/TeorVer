{
  "nbformat": 4,
  "nbformat_minor": 0,
  "metadata": {
    "colab": {
      "provenance": [],
      "collapsed_sections": [],
      "authorship_tag": "ABX9TyMVtngJ/hQ/B4AkEVYm2/s6",
      "include_colab_link": true
    },
    "kernelspec": {
      "name": "python3",
      "display_name": "Python 3"
    },
    "language_info": {
      "name": "python"
    }
  },
  "cells": [
    {
      "cell_type": "markdown",
      "metadata": {
        "id": "view-in-github",
        "colab_type": "text"
      },
      "source": [
        "<a href=\"https://colab.research.google.com/github/NataliFA/TeorVer/blob/main/%D0%94%D0%97_3.ipynb\" target=\"_parent\"><img src=\"https://colab.research.google.com/assets/colab-badge.svg\" alt=\"Open In Colab\"/></a>"
      ]
    },
    {
      "cell_type": "markdown",
      "source": [
        "1. Даны значения зарплат из выборки выпускников: 100, 80, 75, 77, 89, 33, 45, 25, 65, 17, 30, 24, 57, 55, 70, 75, 65, 84, 90, 150. Посчитать (желательно без использования статистических методов наподобие std, var, mean) среднее арифметическое, среднее квадратичное отклонение, смещенную и несмещенную оценки дисперсий для данной выборки.\n"
      ],
      "metadata": {
        "id": "5p3bM-OnRX5Z"
      }
    },
    {
      "cell_type": "code",
      "source": [
        "import math\n",
        "array = [100, 80, 75, 77, 89, 33, 45, 25, 65, 17, 30, 24, 57, 55, 70, 75, 65, 84, 90, 150]\n",
        "l = len(array)\n",
        "\n",
        "# среднее арифметическое\n",
        "sum = 0\n",
        "for i in range(0, l):\n",
        "  sum = sum + array[i]\n",
        "average = sum / l\n",
        "print(f\"Среднее арифметическое = {average}\")\n",
        "\n",
        "# среднее квадратичное отклонение и смещенная дисперсия\n",
        "sum = 0\n",
        "for i in range(0, l):\n",
        "  sum = sum + math.pow((array[i] - average), 2)\n",
        "\n",
        "shifted_var = sum / l\n",
        "SKO_shift = math.sqrt(shifted_var)\n",
        "print(f\"Cмещенная дисперсия = {shifted_var:.2f}\")\n",
        "print(f\"СКО при смещенной дисперсии = {SKO_shift:.2f}\")\n",
        "\n",
        "# среднее квадратичное отклонение и несмещенная дисперсия\n",
        "\n",
        "unbiased_var = sum / (l-1)\n",
        "SKO_unb = math.sqrt(unbiased_var)\n",
        "print(f\"Несмещенная дисперсия = {unbiased_var:.2f}\")\n",
        "print(f\"СКО при несмещенной дисперсии = {SKO_unb:.2f}\")\n"
      ],
      "metadata": {
        "colab": {
          "base_uri": "https://localhost:8080/"
        },
        "id": "w5MpqHlPWHgP",
        "outputId": "976fbc5c-f0f5-4462-efc2-a80231f2ad5b"
      },
      "execution_count": 26,
      "outputs": [
        {
          "output_type": "stream",
          "name": "stdout",
          "text": [
            "Среднее арифметическое = 65.3\n",
            "Cмещенная дисперсия = 950.11\n",
            "СКО при смещенной дисперсии = 30.82\n",
            "Несмещенная дисперсия = 1000.12\n",
            "СКО при несмещенной дисперсии = 31.62\n"
          ]
        }
      ]
    },
    {
      "cell_type": "markdown",
      "source": [
        "2. В первом ящике находится 8 мячей, из которых 5 - белые. Во втором ящике - 12 мячей, из которых 5 белых. Из первого ящика вытаскивают случайным образом два мяча, из второго - 4. Какова вероятность того, что 3 мяча белые?\n"
      ],
      "metadata": {
        "id": "qaYPRM3eXJ6K"
      }
    },
    {
      "cell_type": "code",
      "source": [
        "import numpy as np\n",
        "from math import factorial\n",
        "\n",
        "def combinations(n, k):\n",
        "  return np.math.factorial(n) // (np.math.factorial(k)*np.math.factorial(n-k))\n",
        "# Три варианта достать 3 белых мяча:\n",
        "# 1 - 1б.м. и 1неб.м. из 1 ящика, 2б.м. и 2неб.м. из 2 ящика\n",
        "\n",
        "box1_1white = combinations(5, 1) * combinations(3, 1)/ combinations(8, 2)\n",
        "box2_2white = combinations(5, 2) * combinations(7, 2)/ combinations(12, 4)\n",
        "\n",
        "# 2 - 2б.м. и 0неб.м. из 1 ящика, 1б.м. и 3неб.м. из 2 ящика\n",
        "\n",
        "box1_2white = combinations(5, 2) * combinations(3, 0)/ combinations(8, 2)\n",
        "box2_1white = combinations(5, 1) * combinations(7, 3)/ combinations(12, 4)\n",
        "\n",
        "# 3 - 0б.м. и 2неб.м. из 1 ящика, 3б.м. и 1неб.м. из 2 ящика\n",
        "\n",
        "box1_0white = combinations(5, 0) * combinations(3, 2)/ combinations(8, 2)\n",
        "box2_3white = combinations(5, 3) * combinations(7, 1)/ combinations(12, 4)\n",
        "\n",
        "P_3white = box1_1white*box2_2white + box1_2white*box2_1white + box1_0white*box2_3white\n",
        "print(f\"Вероятность того, что три мяча белые = {P_3white:.3f}\")"
      ],
      "metadata": {
        "colab": {
          "base_uri": "https://localhost:8080/"
        },
        "id": "o-byvh5RUAaR",
        "outputId": "eea6da0a-7965-4722-e246-d7dffa009a32"
      },
      "execution_count": 28,
      "outputs": [
        {
          "output_type": "stream",
          "name": "stdout",
          "text": [
            "Вероятность того, что три мяча белые = 0.369\n"
          ]
        }
      ]
    },
    {
      "cell_type": "markdown",
      "source": [
        "3. На соревновании по биатлону один из трех спортсменов стреляет и попадает в мишень. Вероятность попадания для первого спортсмена равна 0.9, для второго — 0.8, для третьего — 0.6. Найти вероятность того, что выстрел произведен: a). первым спортсменом б). вторым спортсменом в). третьим спортсменом."
      ],
      "metadata": {
        "id": "O9rwpraTXO7a"
      }
    },
    {
      "cell_type": "code",
      "source": [
        "p1 = 0.9\n",
        "p2 = 0.8\n",
        "p3 = 0.6\n",
        "pB = 1/3\n",
        "# полная группа событий\n",
        "pA = pB*(p1 + p2 + p3)\n",
        "\n",
        "# вероятность того, что выстрел произведен: \n",
        "# a). первым спортсменом \n",
        "p_first = p1 * pB / pA\n",
        "print(f\"Вероятность того, что выстрелил 1 спортсмен = {p_first:.2f}\")\n",
        "\n",
        "# б). вторым спортсменом \n",
        "p_second = p2 * pB / pA\n",
        "print(f\"Вероятность того, что выстрелил 2 спортсмен = {p_second:.2f}\")\n",
        "\n",
        "# в). третьим спортсменом.\n",
        "p_third = p3 * pB / pA\n",
        "print(f\"Вероятность того, что выстрелил 3 спортсмен = {p_third:.2f}\")"
      ],
      "metadata": {
        "colab": {
          "base_uri": "https://localhost:8080/"
        },
        "outputId": "12fc23d9-ccc4-48d1-9160-52025a270176",
        "id": "doi9Olx-hk3x"
      },
      "execution_count": 31,
      "outputs": [
        {
          "output_type": "stream",
          "name": "stdout",
          "text": [
            "Вероятность того, что выстрелил 1 спортсмен = 0.39\n",
            "Вероятность того, что выстрелил 2 спортсмен = 0.35\n",
            "Вероятность того, что выстрелил 3 спортсмен = 0.26\n"
          ]
        }
      ]
    },
    {
      "cell_type": "markdown",
      "source": [
        "4. В университет на факультеты A и B поступило равное количество студентов, а на факультет C студентов поступило столько же, сколько на A и B вместе. Вероятность того, что студент факультета A сдаст первую сессию, равна 0.8. Для студента факультета B эта вероятность равна 0.7, а для студента факультета C - 0.9. Студент сдал первую сессию. Какова вероятность, что он учится: a). на факультете A б). на факультете B в). на факультете C?"
      ],
      "metadata": {
        "id": "VlfqiCb_aBI7"
      }
    },
    {
      "cell_type": "code",
      "source": [
        "pA = 0.8\n",
        "pB = 0.7\n",
        "pC = 0.9\n",
        "stud_AB = 0.25  # кол-во студентов на факультете А и В = по 25%\n",
        "stud_C = 0.5    # на С = 50%\n",
        "\n",
        "p_all = stud_AB*(pA + pB) + stud_C*pC # полная группа событий\n",
        "# Какова вероятность, что студент учится:\n",
        "# a). на факультете A\n",
        "faculty_A = pA * stud_AB / p_all\n",
        "print(f\"Вероятность того, что студент с факультета А = {faculty_A:.2f}\")\n",
        "\n",
        "# б). на факультете B\n",
        "faculty_B = pB * stud_AB / p_all\n",
        "print(f\"Вероятность того, что студент с факультета B = {faculty_B:.2f}\")\n",
        "\n",
        "# в). на факультете C\n",
        "faculty_C = pC * stud_C / p_all\n",
        "print(f\"Вероятность того, что студент с факультета C = {faculty_C:.2f}\")"
      ],
      "metadata": {
        "colab": {
          "base_uri": "https://localhost:8080/"
        },
        "id": "Acg_-tXlhyoq",
        "outputId": "86101bd2-3fb7-474b-c751-a47e5329ffc7"
      },
      "execution_count": 32,
      "outputs": [
        {
          "output_type": "stream",
          "name": "stdout",
          "text": [
            "Вероятность того, что студент с факультета А = 0.24\n",
            "Вероятность того, что студент с факультета B = 0.21\n",
            "Вероятность того, что студент с факультета C = 0.55\n"
          ]
        }
      ]
    },
    {
      "cell_type": "markdown",
      "source": [
        "5. Устройство состоит из трех деталей. Для первой детали вероятность выйти из строя в первый месяц равна 0.1, для второй - 0.2, для третьей - 0.25. Какова вероятность того, что в первый месяц выйдут из строя: а). все детали б). только две детали в). хотя бы одна деталь г). от одной до двух деталей?"
      ],
      "metadata": {
        "id": "C9p0zeqxaNS5"
      }
    },
    {
      "cell_type": "code",
      "execution_count": 43,
      "metadata": {
        "id": "SHMrQyCNRXHi",
        "colab": {
          "base_uri": "https://localhost:8080/"
        },
        "outputId": "e41911b9-6d3d-4020-ab24-3a1db41e55fb"
      },
      "outputs": [
        {
          "output_type": "stream",
          "name": "stdout",
          "text": [
            "Вероятность того, что все детали выйдут из строя = 0.01\n",
            "Вероятность того, что только две детали выйдут из строя = 0.08\n",
            "Вероятность того, что хотя бы одна деталь выйдет из строя = 0.38\n",
            "Вероятность того, что от одной до двух деталей выйдут из строя = 0.46\n"
          ]
        }
      ],
      "source": [
        "p1 = 0.1\n",
        "p2 = 0.2\n",
        "p3 = 0.25\n",
        "\n",
        "# Какова вероятность того, что в первый месяц выйдут из строя:\n",
        "# a). все детали\n",
        "all_details = p1*p2*p3\n",
        "print(f\"Вероятность того, что все детали выйдут из строя = {all_details:.2f}\")\n",
        "\n",
        "# б). только две детали \n",
        "two_details = p1*p2*(1-p3) + p1*(1-p2)*p3 + (1-p1)*p2*p3\n",
        "print(f\"Вероятность того, что только две детали выйдут из строя = {two_details:.2f}\")\n",
        "\n",
        "# в). хотя бы одна деталь\n",
        "one_detail = p1*(1-p2)*(1-p3) + (1-p1)*p2*(1-p3) + (1-p1)*(1-p2)*p3\n",
        "print(f\"Вероятность того, что хотя бы одна деталь выйдет из строя = {one_detail:.2f}\")\n",
        "\n",
        "# г). от одной до двух деталей\n",
        "one_or_two = two_details + one_detail\n",
        "print(f\"Вероятность того, что от одной до двух деталей выйдут из строя = {one_or_two:.2f}\")\n"
      ]
    }
  ]
}