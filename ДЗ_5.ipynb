{
  "nbformat": 4,
  "nbformat_minor": 0,
  "metadata": {
    "colab": {
      "provenance": [],
      "authorship_tag": "ABX9TyNZ2xg18YCHcISN3UIz1OpJ",
      "include_colab_link": true
    },
    "kernelspec": {
      "name": "python3",
      "display_name": "Python 3"
    },
    "language_info": {
      "name": "python"
    }
  },
  "cells": [
    {
      "cell_type": "markdown",
      "metadata": {
        "id": "view-in-github",
        "colab_type": "text"
      },
      "source": [
        "<a href=\"https://colab.research.google.com/github/NataliFA/TeorVer/blob/main/%D0%94%D0%97_5.ipynb\" target=\"_parent\"><img src=\"https://colab.research.google.com/assets/colab-badge.svg\" alt=\"Open In Colab\"/></a>"
      ]
    },
    {
      "cell_type": "markdown",
      "source": [
        "*1. Когда используется критерий Стьюдента, а когда Z –критерий?*  \n",
        "Если известна сигма генеральной совокупности, то используют Z-критерий, а если нет, то - критерий Стьюдента t. \n"
      ],
      "metadata": {
        "id": "5p3bM-OnRX5Z"
      }
    },
    {
      "cell_type": "markdown",
      "source": [
        "*2. Проведите тест гипотезы. Утверждается, что шарики для подшипников, изготовленные автоматическим станком, имеют средний диаметр 17 мм.\n",
        "Используя односторонний критерий с α=0,05, проверить эту гипотезу, если в выборке из n=100 шариков средний диаметр оказался равным 17.5 мм, а дисперсия известна и равна 4 кв. мм.*"
      ],
      "metadata": {
        "id": "qaYPRM3eXJ6K"
      }
    },
    {
      "cell_type": "code",
      "source": [
        "import math\n",
        "mu0 = 17\n",
        "alpha = 0.05\n",
        "n = 100\n",
        "mu1 = 17.5\n",
        "d = 4\n",
        "# H0: mu0 = mu1\n",
        "# H1: mu1 > mu0\n",
        "Z = (mu1 - mu0) * math.sqrt(n) / math.sqrt(d)\n",
        "Z\n",
        "# При альфа = 0,05, теоретический критерий Z = 1,96. В нашем случае рассчитанный критерий Z = 2,5. \n",
        "# Так как 2,5 > 1,96, получается, что принимаем гипотезу H1 и считаем, что диаметр теперь равен 17,5 мм"
      ],
      "metadata": {
        "colab": {
          "base_uri": "https://localhost:8080/"
        },
        "id": "w5MpqHlPWHgP",
        "outputId": "34220937-612a-4267-cd7c-1a02b5b49353"
      },
      "execution_count": 20,
      "outputs": [
        {
          "output_type": "execute_result",
          "data": {
            "text/plain": [
              "2.5"
            ]
          },
          "metadata": {},
          "execution_count": 20
        }
      ]
    },
    {
      "cell_type": "markdown",
      "source": [
        "*3. Проведите тест гипотезы. Продавец утверждает, что средний вес пачки печенья составляет 200 г. Из партии извлечена выборка из 10 пачек. Вес каждой пачки составляет: 202, 203, 199, 197, 195, 201, 200, 204, 194, 190.\n",
        "Известно, что их веса распределены нормально.\n",
        "Верно ли утверждение продавца, если учитывать, что доверительная вероятность равна 99%? (Провести двусторонний тест.)*  \n"
      ],
      "metadata": {
        "id": "O9rwpraTXO7a"
      }
    },
    {
      "cell_type": "code",
      "source": [
        "import numpy as np\n",
        "import scipy.stats as stats\n",
        "mu0 = 200\n",
        "x = np.array([202, 203, 199, 197, 195, 201, 200, 204, 194, 190])\n",
        "alpha = 0.01\n",
        "n = 10\n",
        "# H0: mu0 = mu1\n",
        "# H1: mu1 != mu0\n",
        "mean = np.mean(x)\n",
        "unb_std = np.std(x, ddof=1)\n",
        "t = stats.t.ppf(0.995, 9)\n",
        "print(f\"t теор.{t:.2f}\")\n",
        "t = (mean - mu0) * np.sqrt(n) / unb_std\n",
        "print(f\"t рассчит.{t:.3f}\")\n",
        "\n",
        "# При альфа = 0,01, теоретический критерий Стьюдента t = 3,25 (число степеней свободы 10-1 = 9). В нашем случае рассчитанный критерий t = -1.06. \n",
        "# Так как 3,25 > 1,06, получается, что продавец прав и вес пачки печенья составляет 200 г."
      ],
      "metadata": {
        "colab": {
          "base_uri": "https://localhost:8080/"
        },
        "outputId": "a0b5a61e-88b4-4a7d-8441-d10fa7539680",
        "id": "w5fjyeKOLcik"
      },
      "execution_count": 18,
      "outputs": [
        {
          "output_type": "stream",
          "name": "stdout",
          "text": [
            "t теор.3.25\n",
            "t рассчит.-1.065\n"
          ]
        }
      ]
    },
    {
      "cell_type": "markdown",
      "source": [
        "*4. Есть ли статистически значимые различия в росте дочерей?  \n",
        "Рост матерей 172, 177, 158, 170, 178,175, 164, 160, 169, 165  \n",
        "Рост взрослых дочерей: 173, 175, 162, 174, 175, 168, 155, 170, 160*  "
      ],
      "metadata": {
        "id": "VlfqiCb_aBI7"
      }
    },
    {
      "cell_type": "code",
      "source": [
        "import numpy as np\n",
        "import scipy.stats as stats\n",
        "\n",
        "mother = np.array([172, 177, 158, 170, 178, 175, 164, 160, 169, 165])\n",
        "daughter = np.array([173, 175, 162, 174, 175, 168, 155, 170, 160])\n",
        "\n",
        "var_mother = np.var(mother, ddof=1)\n",
        "var_daughter = np.var(daughter, ddof=1)\n",
        "\n",
        "mean_mother = np.mean(mother)\n",
        "mean_daughter = np.mean(daughter)\n",
        "\n",
        "l_mother = len(mother)\n",
        "l_daughter = len(daughter)\n",
        "\n",
        "t1 = stats.t.ppf(0.975, 9)\n",
        "t2 = stats.t.ppf(0.975, 8)\n",
        "print(f\"t теор. для матерей {t1:.2f}, t теор. для дочерей {t2:.2f}\")\n",
        "t = (var_mother - var_daughter) / np.sqrt((var_mother/l_mother) + (var_daughter/l_daughter))\n",
        "print(f\"t рассчит.{t:.3f}\")\n",
        "\n",
        "# Считаем, что альфа = 5%, тогда для выборки - рост матерей (n=10) - критерий t по таблице = 2,31, для выборки - рост дочерей (n=9) - критерий t по таблице = 2,26. \n",
        "# 1,77 < 2,26 и 2,31, считаем, что статистически значимых различий нет"
      ],
      "metadata": {
        "id": "zhaMWgQxiupY",
        "colab": {
          "base_uri": "https://localhost:8080/"
        },
        "outputId": "85008cc1-899f-4de7-8dff-e99ab49636e3"
      },
      "execution_count": 15,
      "outputs": [
        {
          "output_type": "stream",
          "name": "stdout",
          "text": [
            "t теор. для матерей 2.26, t теор. для дочерей 2.31\n",
            "t рассчит.-1.770\n"
          ]
        }
      ]
    }
  ]
}