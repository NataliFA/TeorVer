{
  "nbformat": 4,
  "nbformat_minor": 0,
  "metadata": {
    "colab": {
      "provenance": [],
      "collapsed_sections": [],
      "authorship_tag": "ABX9TyMgd8iL4Mjhl9/tWHreGIa/",
      "include_colab_link": true
    },
    "kernelspec": {
      "name": "python3",
      "display_name": "Python 3"
    },
    "language_info": {
      "name": "python"
    }
  },
  "cells": [
    {
      "cell_type": "markdown",
      "metadata": {
        "id": "view-in-github",
        "colab_type": "text"
      },
      "source": [
        "<a href=\"https://colab.research.google.com/github/NataliFA/TeorVer/blob/main/%D0%94%D0%97_2.ipynb\" target=\"_parent\"><img src=\"https://colab.research.google.com/assets/colab-badge.svg\" alt=\"Open In Colab\"/></a>"
      ]
    },
    {
      "cell_type": "code",
      "execution_count": 21,
      "metadata": {
        "id": "SHMrQyCNRXHi"
      },
      "outputs": [],
      "source": [
        "import numpy as np\n",
        "from math import factorial\n",
        "\n",
        "def combinations(n, k):\n",
        "  return np.math.factorial(n) // (np.math.factorial(k)*np.math.factorial(n-k))\n",
        "\n",
        "def arrangements(n, k):\n",
        "  return np.math.factorial(n) // np.math.factorial(n-k)\n",
        "\n",
        "def permutations(n):\n",
        "  return np.math.factorial(n) \n",
        "\n",
        "def bernulli(p, n, k):\n",
        "  return combinations(n, k) * np.power(p, k) * np.power((1-p), (n-k))\n",
        "\n",
        "def puasson(l, m):\n",
        "  return np.power(l, m) * np.power((2.72), -l) / np.math.factorial(m)\n"
      ]
    },
    {
      "cell_type": "markdown",
      "source": [
        "1. Вероятность того, что стрелок попадет в мишень, выстрелив один раз, равна 0.8. Стрелок выстрелил 100 раз. Найдите вероятность того, что стрелок попадет в цель ровно 85 раз.\n",
        "\n"
      ],
      "metadata": {
        "id": "5p3bM-OnRX5Z"
      }
    },
    {
      "cell_type": "code",
      "source": [
        "# p = 0.8, n = 100, k = 85\n",
        "P = bernulli(0.8, 100, 85)\n",
        "print(f\"P = {P:.3f}\")\n"
      ],
      "metadata": {
        "colab": {
          "base_uri": "https://localhost:8080/"
        },
        "id": "w5MpqHlPWHgP",
        "outputId": "a04f3e7f-eba9-4fdd-a413-466a9114ef67"
      },
      "execution_count": null,
      "outputs": [
        {
          "output_type": "stream",
          "name": "stdout",
          "text": [
            "P = 0.048\n"
          ]
        }
      ]
    },
    {
      "cell_type": "markdown",
      "source": [
        "2. Вероятность того, что лампочка перегорит в течение первого дня эксплуатации, равна 0.0004. В жилом комплексе после ремонта в один день включили 5000 новых лампочек. Какова вероятность, что ни одна из них не перегорит в первый день? Какова вероятность, что перегорят ровно две?\n"
      ],
      "metadata": {
        "id": "qaYPRM3eXJ6K"
      }
    },
    {
      "cell_type": "code",
      "source": [
        "p = 0.0004\n",
        "n = 5000\n",
        "k = 0 \n",
        "print(f\"Вероятность, что ни одна из них не перегорит в первый день = {puasson(p*n, k):.3f}\")\n",
        "k = 2\n",
        "print(f\"Вероятность, что перегорят ровно две = {puasson(p*n, k):.3f}\")\n"
      ],
      "metadata": {
        "colab": {
          "base_uri": "https://localhost:8080/"
        },
        "id": "fY91Zwd4XRIT",
        "outputId": "ed4d93be-7357-4b46-e8fa-b33fed5cbcc5"
      },
      "execution_count": 53,
      "outputs": [
        {
          "output_type": "stream",
          "name": "stdout",
          "text": [
            "Вероятность, что ни одна из них не перегорит в первый день = 0.135\n",
            "Вероятность, что перегорят ровно две = 0.270\n"
          ]
        }
      ]
    },
    {
      "cell_type": "markdown",
      "source": [
        "3. Монету подбросили 144 раза. Какова вероятность, что орел выпадет ровно 70 раз?\n"
      ],
      "metadata": {
        "id": "nLUxhHHqXMh4"
      }
    },
    {
      "cell_type": "code",
      "source": [
        "n = 144\n",
        "k = 70\n",
        "p = 0.5\n",
        "P = bernulli(p, n, k)\n",
        "print(f\"P = {P:.3f}\")\n"
      ],
      "metadata": {
        "colab": {
          "base_uri": "https://localhost:8080/"
        },
        "id": "Esyy0vfzXQOg",
        "outputId": "afded845-8002-4c96-c38d-7b224162b065"
      },
      "execution_count": 50,
      "outputs": [
        {
          "output_type": "stream",
          "name": "stdout",
          "text": [
            "P = 0.063\n"
          ]
        }
      ]
    },
    {
      "cell_type": "markdown",
      "source": [
        "4. В первом ящике находится 10 мячей, из которых 7 - белые. Во втором ящике - 11 мячей, из которых 9 белых. Из каждого ящика вытаскивают случайным образом по два мяча. Какова вероятность того, что все мячи белые? Какова вероятность того, что ровно два мяча белые? Какова вероятность того, что хотя бы один мяч белый?"
      ],
      "metadata": {
        "id": "O9rwpraTXO7a"
      }
    },
    {
      "cell_type": "code",
      "source": [
        "# вероятность достать 2 белых мяча из 1 корзины\n",
        "P1 = combinations(7, 2) / combinations(10, 2)\n",
        "# вероятность достать 2 белых мяча из 2 корзины\n",
        "P2 = combinations(9, 2) / combinations(11, 2)\n",
        "\n",
        "all_white = P1*P2\n",
        "print(f\"Вероятность того, что все мячи белые = {all_white:.5f}\")\n",
        "\n",
        "# вероятность достать 1 белый мяч из 1 и 2 корзины\n",
        "P3 = (combinations(7, 1) * combinations(3, 1)) / combinations(10, 2)\n",
        "P4 = (combinations(9, 1) * combinations(2, 1)) / combinations(11, 2)\n",
        "\n",
        "# вероятность достать 0 белыx мячей из 1 и 2 корзины\n",
        "P5 = combinations(3, 2) / combinations(10, 2)\n",
        "P6 = combinations(2, 2) / combinations(11, 2)\n",
        "\n",
        "# чтобы достать ровно 2 белых мяча, имеем 3 сочетания: 2 б.м. из 1 корзины и 0 б.м. из 2, 1 б.м. из 1 и 1 б.м. из 2, 0 б.м. из 1 и 2 б.м. из 2\n",
        "two_white = P1*P6 + P3*P4 + P5*P2\n",
        "print(f\"Вероятность того, что ровно два мяча белые = {two_white:.5f}\")\n",
        "\n",
        "# вероятность достать хотя бы 1 белый мяч, равна 1 минус вероятность достать все 4 мяча другого цвета\n",
        "one_white = 1 - P5*P6\n",
        "print(f\"Вероятность того, что хотя бы один мяч белый = {one_white:.5f}\")\n"
      ],
      "metadata": {
        "colab": {
          "base_uri": "https://localhost:8080/"
        },
        "outputId": "c8ae9c12-ba27-4ace-b602-638376f2f276",
        "id": "doi9Olx-hk3x"
      },
      "execution_count": 56,
      "outputs": [
        {
          "output_type": "stream",
          "name": "stdout",
          "text": [
            "Вероятность того, что все мячи белые = 0.30545\n",
            "Вероятность того, что ровно два мяча белые = 0.20485\n",
            "Вероятность того, что хотя бы один мяч белый = 0.99879\n"
          ]
        }
      ]
    }
  ]
}