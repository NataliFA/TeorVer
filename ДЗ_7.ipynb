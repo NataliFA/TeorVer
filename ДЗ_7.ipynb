{
  "nbformat": 4,
  "nbformat_minor": 0,
  "metadata": {
    "colab": {
      "provenance": [],
      "authorship_tag": "ABX9TyMg5J68A8trqB8jrYZnPW2M",
      "include_colab_link": true
    },
    "kernelspec": {
      "name": "python3",
      "display_name": "Python 3"
    },
    "language_info": {
      "name": "python"
    }
  },
  "cells": [
    {
      "cell_type": "markdown",
      "metadata": {
        "id": "view-in-github",
        "colab_type": "text"
      },
      "source": [
        "<a href=\"https://colab.research.google.com/github/NataliFA/TeorVer/blob/main/%D0%94%D0%97_7.ipynb\" target=\"_parent\"><img src=\"https://colab.research.google.com/assets/colab-badge.svg\" alt=\"Open In Colab\"/></a>"
      ]
    },
    {
      "cell_type": "markdown",
      "source": [
        "1. *1-4 задачи решать с помощью функций, 5ю вручную. Выберете тест и проверьте, есть ли различия между выборками:*  \n",
        "1) Даны две независимые выборки. Не соблюдается условие нормальности  \n",
        "x1 380,420, 290  \n",
        "y1 140,360,200,900  \n",
        "Сделайте вывод по результатам, полученным с помощью функции"
      ],
      "metadata": {
        "id": "5p3bM-OnRX5Z"
      }
    },
    {
      "cell_type": "code",
      "source": [
        "import numpy as np\n",
        "from scipy import stats\n",
        "\n",
        "x1 = np.array([380, 420, 290])\n",
        "y1 = np.array([140, 360, 200, 900])\n",
        "\n",
        "stats.mannwhitneyu(x1, y1)\n",
        "\n",
        "# при доверительной вероятность 0,05, значение pvalue = 0.63 больше 0.05, поэтому принимаем нулевую гипотезу, о том, что различий нет "
      ],
      "metadata": {
        "colab": {
          "base_uri": "https://localhost:8080/"
        },
        "id": "w5MpqHlPWHgP",
        "outputId": "9abaebaa-f9aa-4786-d102-4ea229c9d3fa"
      },
      "execution_count": null,
      "outputs": [
        {
          "output_type": "execute_result",
          "data": {
            "text/plain": [
              "MannwhitneyuResult(statistic=8.0, pvalue=0.6285714285714286)"
            ]
          },
          "metadata": {},
          "execution_count": 19
        }
      ]
    },
    {
      "cell_type": "markdown",
      "source": [
        "*2. Исследовалось влияние препарата на уровень давления пациентов. Сначала измерялось давление до приема препарата, потом через 10 минут и через 30 минут. Есть ли статистически значимые различия?  \n",
        "1е измерение до приема препарата: 150, 160, 165, 145, 155  \n",
        "2е измерение через 10 минут: 140, 155, 150, 130, 135  \n",
        "3е измерение через 30 минут: 130, 130, 120, 130, 125*"
      ],
      "metadata": {
        "id": "qaYPRM3eXJ6K"
      }
    },
    {
      "cell_type": "code",
      "source": [
        "import numpy as np\n",
        "import scipy.stats as stats\n",
        "\n",
        "before = np.array([150, 160, 165, 145, 155])\n",
        "after_ten = np.array([140, 155, 150, 130, 135])\n",
        "after_thirty = np.array([130, 130, 120, 130, 125])\n",
        "\n",
        "stats.friedmanchisquare(before, after_ten, after_thirty)\n",
        "# при доверительной вероятность 0,05, значение pvalue = 0.008 меньше 0.05, поэтому принимаем альтернативную гипотезу, о том, что препарат влияет на уровень давления пациентов"
      ],
      "metadata": {
        "colab": {
          "base_uri": "https://localhost:8080/"
        },
        "outputId": "b54759a3-6290-4351-ad30-e6f5407dc6d2",
        "id": "w5fjyeKOLcik"
      },
      "execution_count": null,
      "outputs": [
        {
          "output_type": "execute_result",
          "data": {
            "text/plain": [
              "FriedmanchisquareResult(statistic=9.578947368421062, pvalue=0.00831683351100441)"
            ]
          },
          "metadata": {},
          "execution_count": 20
        }
      ]
    },
    {
      "cell_type": "markdown",
      "source": [
        "*3. Сравните 1 и 2 е измерения, предполагая, что 3го измерения через 30 минут не было.*  "
      ],
      "metadata": {
        "id": "O9rwpraTXO7a"
      }
    },
    {
      "cell_type": "code",
      "source": [
        "import numpy as np\n",
        "import scipy.stats as stats\n",
        "\n",
        "before = np.array([150, 160, 165, 145, 155])\n",
        "after_ten = np.array([140, 155, 150, 130, 135])\n",
        "\n",
        "stats.wilcoxon(before, after_ten)\n",
        "# при доверительной вероятность 0,05, значение pvalue = 0.06 больше 0.05, поэтому принимаем нулевую гипотезу, различий нет"
      ],
      "metadata": {
        "id": "zhaMWgQxiupY",
        "colab": {
          "base_uri": "https://localhost:8080/"
        },
        "outputId": "c5e71b60-5cbb-4044-877d-61e17de08551"
      },
      "execution_count": null,
      "outputs": [
        {
          "output_type": "execute_result",
          "data": {
            "text/plain": [
              "WilcoxonResult(statistic=0.0, pvalue=0.0625)"
            ]
          },
          "metadata": {},
          "execution_count": 21
        }
      ]
    },
    {
      "cell_type": "markdown",
      "source": [
        "*4. Даны 3 группы учеников плавания.  \n",
        "В 1 группе время на дистанцию 50 м составляют:\n",
        "56, 60, 62, 55, 71, 67, 59, 58, 64, 67  \n",
        "Вторая группа : 57, 58, 69, 48, 72, 70, 68, 71, 50, 53  \n",
        "Третья группа: 57, 67, 49, 48, 47, 55, 66, 51, 54*\n"
      ],
      "metadata": {
        "id": "2vKMrucCPen8"
      }
    },
    {
      "cell_type": "code",
      "source": [
        "import numpy as np\n",
        "import scipy.stats as stats\n",
        "\n",
        "group1 = np.array([56, 60, 62, 55, 71, 67, 59, 58, 64, 67])\n",
        "group2 = np.array([57, 58, 69, 48, 72, 70, 68, 71, 50, 53])\n",
        "group3 = np.array([57, 67, 49, 48, 47, 55, 66, 51, 54])\n",
        "\n",
        "stats.kruskal(group1, group2, group3)\n",
        "# при доверительной вероятность 0,05, значение pvalue = 0.065 больше 0.05, поэтому считаем, что различий между группами нет"
      ],
      "metadata": {
        "colab": {
          "base_uri": "https://localhost:8080/"
        },
        "id": "thVi-CIUP_8e",
        "outputId": "7621e8a4-e5d9-40be-d5de-bd2bc692439b"
      },
      "execution_count": null,
      "outputs": [
        {
          "output_type": "execute_result",
          "data": {
            "text/plain": [
              "KruskalResult(statistic=5.465564058257224, pvalue=0.0650380998590494)"
            ]
          },
          "metadata": {},
          "execution_count": 22
        }
      ]
    },
    {
      "cell_type": "markdown",
      "source": [
        "*5. Заявляется, что партия изготавливается со средним арифметическим 2,5 см. Проверить данную гипотезу, если известно, что размеры изделий подчинены нормальному закону распределения. Объем выборки 10, уровень статистической значимости 5%  \n",
        "2.51, 2.35, 2.74, 2.56, 2.40, 2.36, 2.65, 2.7, 2.67, 2.34*"
      ],
      "metadata": {
        "id": "HaHrbImoP3AR"
      }
    },
    {
      "cell_type": "code",
      "source": [
        "import numpy as np\n",
        "import scipy.stats as stats\n",
        "n = 10\n",
        "mu0 = 2.5\n",
        "x = np.array([2.51, 2.35, 2.74, 2.56, 2.40, 2.36, 2.65, 2.7, 2.67, 2.34])\n",
        "\n",
        "# H0: mu0 = mu1\n",
        "# H1: mu1 != mu0\n",
        "\n",
        "mean = np.mean(x)\n",
        "\n",
        "unb_std = np.std(x, ddof=1)\n",
        "\n",
        "t = stats.t.ppf(0.975, 9)\n",
        "print(f\"t теор.{t:.2f}\")\n",
        "\n",
        "t = (mean - mu0) * np.sqrt(n) / unb_std\n",
        "print(f\"t рассчит.{t:.3f}\")\n",
        "\n",
        "# так как 2,26 > 0,563, считаем что нулевая гипотеза верна"
      ],
      "metadata": {
        "colab": {
          "base_uri": "https://localhost:8080/"
        },
        "id": "74KGGXxHX8K-",
        "outputId": "8175bbe2-57de-4b08-f533-99b5dbaf750d"
      },
      "execution_count": null,
      "outputs": [
        {
          "output_type": "stream",
          "name": "stdout",
          "text": [
            "t теор.2.26\n",
            "t рассчит.0.563\n"
          ]
        }
      ]
    }
  ]
}