{
  "nbformat": 4,
  "nbformat_minor": 0,
  "metadata": {
    "colab": {
      "provenance": [],
      "collapsed_sections": [],
      "authorship_tag": "ABX9TyMyT3Ryvp2B5cZyxa/sINuF",
      "include_colab_link": true
    },
    "kernelspec": {
      "name": "python3",
      "display_name": "Python 3"
    },
    "language_info": {
      "name": "python"
    }
  },
  "cells": [
    {
      "cell_type": "markdown",
      "metadata": {
        "id": "view-in-github",
        "colab_type": "text"
      },
      "source": [
        "<a href=\"https://colab.research.google.com/github/NataliFA/TeorVer/blob/main/%D0%94%D0%97_1.ipynb\" target=\"_parent\"><img src=\"https://colab.research.google.com/assets/colab-badge.svg\" alt=\"Open In Colab\"/></a>"
      ]
    },
    {
      "cell_type": "code",
      "execution_count": null,
      "metadata": {
        "id": "SHMrQyCNRXHi"
      },
      "outputs": [],
      "source": [
        "import numpy as np\n",
        "from math import factorial\n",
        "\n",
        "def combinations(n, k):\n",
        "  return np.math.factorial(n) // (np.math.factorial(k)*np.math.factorial(n-k))\n",
        "\n",
        "def arrangements(n, k):\n",
        "  return np.math.factorial(n) // np.math.factorial(n-k)\n",
        "\n",
        "def permutations(n):\n",
        "  return np.math.factorial(n) \n",
        "\n"
      ]
    },
    {
      "cell_type": "markdown",
      "source": [
        "1. Из колоды в 52 карты извлекаются случайным образом 4 карты.\n",
        "    - Найти вероятность того, что все карты – крести.\n",
        "    - Найти вероятность, что среди 4-х карт окажется хотя бы один туз.\n",
        "\n"
      ],
      "metadata": {
        "id": "5p3bM-OnRX5Z"
      }
    },
    {
      "cell_type": "code",
      "source": [
        "# всего 13 крести, сколько может быть комбинаций 4 крести из 13 \n",
        "C1 = combinations(13, 4)\n",
        "# print(C1) \n",
        "\n",
        "# сколько всего комбинаций 4 из 52\n",
        "C2 = combinations(52, 4)\n",
        "# print(C2) \n",
        "\n",
        "# вероятность того, что все карты крести\n",
        "P = C1 / C2\n",
        "print(f\"а) P = {P:.5f}\")\n",
        "\n",
        "# сколько всего комбинаций вытащить 1 туз из колоды, если всего в колоде 4 туза\n",
        "C3 = combinations(48, 4)\n",
        "# print(C3)\n",
        "\n",
        "# вероятность того, что среди 4-х карт окажется хотя бы один туз\n",
        "P = 1 - C3 / C2\n",
        "print(f\"б) P = {P:.3f}\")\n"
      ],
      "metadata": {
        "colab": {
          "base_uri": "https://localhost:8080/"
        },
        "id": "w5MpqHlPWHgP",
        "outputId": "a7eac879-9f06-4783-fc5a-0edbdee44d28"
      },
      "execution_count": null,
      "outputs": [
        {
          "output_type": "stream",
          "name": "stdout",
          "text": [
            "а) P = 0.00264\n",
            "б) P = 0.281\n"
          ]
        }
      ]
    },
    {
      "cell_type": "markdown",
      "source": [
        "2. На входной двери подъезда установлен кодовый замок, содержащий десять кнопок с цифрами от 0 до 9. Код содержит три цифры, которые нужно нажать одновременно. Какова вероятность того, что человек, не знающий код, откроет дверь с первой попытки?\n"
      ],
      "metadata": {
        "id": "qaYPRM3eXJ6K"
      }
    },
    {
      "cell_type": "code",
      "source": [
        "# нас устроит 1 правильный вариант, когда 1, 2 и 3 цифра с 1 раза будут нажаты правильно, т.е. для 1 цифры - 10 вариантов, для 2 - 9, для 3 - 8\n",
        "amount = arrangements(10, 3)\n",
        "P = 1 / amount\n",
        "print(f\"P = {P:.5f}\")\n"
      ],
      "metadata": {
        "colab": {
          "base_uri": "https://localhost:8080/"
        },
        "id": "fY91Zwd4XRIT",
        "outputId": "b1b65efe-04f1-4e3c-9be6-629674141631"
      },
      "execution_count": null,
      "outputs": [
        {
          "output_type": "stream",
          "name": "stdout",
          "text": [
            "P = 0.00139\n"
          ]
        }
      ]
    },
    {
      "cell_type": "markdown",
      "source": [
        "3. В ящике имеется 15 деталей, из которых 9 окрашены. Рабочий случайным образом извлекает 3 детали. Какова вероятность того, что все извлеченные детали окрашены?\n"
      ],
      "metadata": {
        "id": "nLUxhHHqXMh4"
      }
    },
    {
      "cell_type": "code",
      "source": [
        "# всего 9 деталей из 15 окрашены крести, сколько может быть комбинаций 3 из 9 \n",
        "C1 = combinations(9, 3)\n",
        "# print(C1) \n",
        "\n",
        "# сколько всего комбинаций 3 из 15\n",
        "C2 = combinations(15, 3)\n",
        "# print(C2) \n",
        "\n",
        "# вероятность того, что все извлеченные детали окрашены\n",
        "P = C1 / C2\n",
        "print(f\"P = {P:.3f}\")\n"
      ],
      "metadata": {
        "colab": {
          "base_uri": "https://localhost:8080/"
        },
        "id": "Esyy0vfzXQOg",
        "outputId": "57deeb08-b85a-4106-f50f-8a50d883f9e6"
      },
      "execution_count": null,
      "outputs": [
        {
          "output_type": "stream",
          "name": "stdout",
          "text": [
            "P = 0.185\n"
          ]
        }
      ]
    },
    {
      "cell_type": "markdown",
      "source": [
        "4. В лотерее 100 билетов. Из них 2 выигрышных. Какова вероятность того, что 2 приобретенных билета окажутся выигрышными?"
      ],
      "metadata": {
        "id": "O9rwpraTXO7a"
      }
    },
    {
      "cell_type": "code",
      "source": [
        "# всего 2 билета из 2 выигрышных\n",
        "C1 = combinations(2, 2)\n",
        "# print(C1) \n",
        "\n",
        "# сколько всего комбинаций 2 из 100\n",
        "C2 = combinations(100, 2)\n",
        "# print(C2) \n",
        "\n",
        "# вероятность того, что 2 приобретенных билета окажутся выигрышными\n",
        "P = C1 / C2\n",
        "print(f\"P = {P:.5f}\")\n"
      ],
      "metadata": {
        "colab": {
          "base_uri": "https://localhost:8080/"
        },
        "outputId": "4f281588-26a3-423b-e869-46a8062d03f2",
        "id": "doi9Olx-hk3x"
      },
      "execution_count": null,
      "outputs": [
        {
          "output_type": "stream",
          "name": "stdout",
          "text": [
            "P = 0.00020\n"
          ]
        }
      ]
    }
  ]
}